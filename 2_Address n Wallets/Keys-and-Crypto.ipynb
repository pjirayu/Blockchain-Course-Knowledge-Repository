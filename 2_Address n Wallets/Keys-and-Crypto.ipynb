{
 "cells": [
  {
   "cell_type": "markdown",
   "metadata": {},
   "source": [
    "### Crypto Basics"
   ]
  },
  {
   "cell_type": "markdown",
   "metadata": {},
   "source": [
    "You need to install pycrypto if not previously installed:\n",
    "```\n",
    "!pip install pycryptodome\n",
    "```\n",
    "See: https://www.pycryptodome.org/"
   ]
  },
  {
   "cell_type": "markdown",
   "metadata": {},
   "source": [
    "### Public and Private Key\n",
    "\n",
    "RSA is a type of algorithm for public key encryption."
   ]
  },
  {
   "cell_type": "code",
   "execution_count": null,
   "metadata": {},
   "outputs": [],
   "source": [
    "from Crypto.PublicKey import RSA\n",
    "key = RSA.generate(2048) #sample do not use this method in actual use"
   ]
  },
  {
   "cell_type": "markdown",
   "metadata": {},
   "source": [
    "Write the keys to file using PEM format. PEM stands for Privacy Enhanced Mail; it simply indicates a base64 encoding with header and footer lines."
   ]
  },
  {
   "cell_type": "code",
   "execution_count": null,
   "metadata": {},
   "outputs": [],
   "source": [
    "#private key\n",
    "with open('private.pem','wb') as f:\n",
    "    f.write(key.exportKey('PEM'))"
   ]
  },
  {
   "cell_type": "code",
   "execution_count": null,
   "metadata": {},
   "outputs": [],
   "source": [
    "#public key\n",
    "with open('public.pem','wb') as f:\n",
    "    f.write(key.publickey().exportKey('PEM'))"
   ]
  },
  {
   "cell_type": "markdown",
   "metadata": {},
   "source": [
    "Read back the keys"
   ]
  },
  {
   "cell_type": "code",
   "execution_count": null,
   "metadata": {},
   "outputs": [],
   "source": [
    "with open('private.pem') as f:\n",
    "    key = RSA.importKey(f.read())\n",
    "print(key.exportKey('PEM'))"
   ]
  },
  {
   "cell_type": "code",
   "execution_count": null,
   "metadata": {},
   "outputs": [],
   "source": [
    "pubkey = key.publickey()\n",
    "print(pubkey.exportKey('PEM'))"
   ]
  },
  {
   "cell_type": "markdown",
   "metadata": {},
   "source": [
    "Notes: Bytes literals are always prefixed with 'b' or 'B'; they produce an instance of the bytes type instead of the str type. They may only contain ASCII characters; bytes with a numeric value of 128 or greater must be expressed with escapes.\n",
    "\n"
   ]
  },
  {
   "cell_type": "markdown",
   "metadata": {},
   "source": [
    "### Encrypt & Decrypt \n",
    "Using Public Key and Private Key (Assymetric Encryption)"
   ]
  },
  {
   "cell_type": "markdown",
   "metadata": {},
   "source": [
    "`PKCS#1 OAEP` is an asymmetric cipher based on RSA and the OAEP padding. `PKCS#1 OAEP` does not guarantee authenticity of the message you decrypt. Since the public key is not secret, everybody could have created the encrypted message. Asymmetric encryption is typically paired with a digital signature."
   ]
  },
  {
   "cell_type": "markdown",
   "metadata": {},
   "source": [
    "Encrypt with Public Key"
   ]
  },
  {
   "cell_type": "code",
   "execution_count": null,
   "metadata": {},
   "outputs": [],
   "source": [
    "from Crypto.Cipher import PKCS1_OAEP, PKCS1_v1_5\n",
    "from Crypto.PublicKey import RSA\n",
    "\n",
    "message = b'You can attack now!'\n",
    "key = RSA.importKey(open('public.pem').read())\n",
    "cipher = PKCS1_OAEP.new(key)\n",
    "ciphertext = cipher.encrypt(message)\n",
    "ciphertext"
   ]
  },
  {
   "cell_type": "markdown",
   "metadata": {},
   "source": [
    "Decrypt with Private Key"
   ]
  },
  {
   "cell_type": "code",
   "execution_count": null,
   "metadata": {},
   "outputs": [],
   "source": [
    "key = RSA.importKey(open('private.pem').read())\n",
    "cipher = PKCS1_OAEP.new(key)\n",
    "message = cipher.decrypt(ciphertext)\n",
    "message"
   ]
  },
  {
   "cell_type": "markdown",
   "metadata": {},
   "source": [
    "### Try it yourself\n",
    "\n",
    "Use the private key to encrypt and decrypt with the public key."
   ]
  },
  {
   "cell_type": "markdown",
   "metadata": {},
   "source": [
    "### HASH\n",
    "\n",
    "It is a one-way function, that is, a function which is practically infeasible to invert. \n",
    "\n",
    "Create a hash object using :\n",
    "```\n",
    "    hashlib.sha256()\n",
    "    ```\n",
    "You can now feed this object with bytes-like objects (normally bytes) using the update() method to calculate its hash. At any point you can ask it for the digest (the output of the hash) of the concatenation of the data fed to it so far using the digest() or hexdigest() methods."
   ]
  },
  {
   "cell_type": "code",
   "execution_count": null,
   "metadata": {},
   "outputs": [],
   "source": [
    "from Crypto.Hash import SHA256\n",
    "h=SHA256.new()\n",
    "m=b'hello i am ok'\n",
    "h.update(m)\n",
    "print(h.hexdigest())"
   ]
  },
  {
   "cell_type": "code",
   "execution_count": null,
   "metadata": {},
   "outputs": [],
   "source": [
    "h2=SHA256.new()\n",
    "m=b'hello i am ok' #add a full after it \n",
    "h2.update(m)\n",
    "print(h2.hexdigest())"
   ]
  },
  {
   "cell_type": "markdown",
   "metadata": {},
   "source": [
    "### Try it yourself\n",
    "\n",
    "Compare the hash digest of two nearly the same message text, i.e difference by one full stop. Are you able to deduce the difference in the text by looking a the hash digest?"
   ]
  },
  {
   "cell_type": "markdown",
   "metadata": {},
   "source": [
    "### Digital Signature\n",
    "\n",
    "\n",
    "Digital signatures are based on public key cryptography: the party that signs a message holds the private key, the one that verifies the signature holds the public key.\n",
    "\n",
    "Signing the message creates two documents: \n",
    "1. the original message\n",
    "2. the signature (which uses the private key to encrypt the hash digest of the message)\n",
    "\n",
    "You send the message with the signature. \n",
    "\n",
    "The Crypto.Signature package contains algorithms for performing digital signatures, used to guarantee integrity and non-repudiation."
   ]
  },
  {
   "cell_type": "code",
   "execution_count": null,
   "metadata": {},
   "outputs": [],
   "source": [
    "from Crypto.Hash import SHA256\n",
    "message=b\"I come in Peace.\"\n",
    "h3=SHA256.new()\n",
    "h3.update(message)\n",
    "print(h3.hexdigest())"
   ]
  },
  {
   "cell_type": "code",
   "execution_count": null,
   "metadata": {},
   "outputs": [],
   "source": [
    "from Crypto.Signature import PKCS1_PSS, PKCS1_v1_5\n",
    "sgn = PKCS1_v1_5.new(key) # we use the RSA key we created earlier\n",
    "sig=sgn.sign(h3) #signature\n",
    "with open('mess.sig', 'wb') as f:\n",
    "    f.write(sig)"
   ]
  },
  {
   "cell_type": "markdown",
   "metadata": {},
   "source": [
    "Verifying the signature.\n",
    "\n",
    "Suppose the message and the signature is received, in this case :\n",
    "\n",
    "1. message\n",
    "2. sig\n",
    "\n",
    "You must also have the public key of the sender. \n",
    "\n",
    "First we compute the hash digest of the message. Then use the signature to verify by first reading in the public key. \n",
    "\n",
    "The public key is used to decrypt the signature to obtain the hash digest of the message. If the digest matches than the signature is verified. "
   ]
  },
  {
   "cell_type": "code",
   "execution_count": null,
   "metadata": {},
   "outputs": [],
   "source": [
    "h=SHA256.new()\n",
    "h.update(message)"
   ]
  },
  {
   "cell_type": "code",
   "execution_count": null,
   "metadata": {},
   "outputs": [],
   "source": [
    "with open('public.pem') as f:\n",
    "  ikey = RSA.importKey(f.read())"
   ]
  },
  {
   "cell_type": "code",
   "execution_count": null,
   "metadata": {},
   "outputs": [],
   "source": [
    "vrf = PKCS1_v1_5.new(ikey)\n",
    "if vrf.verify(h, sig):\n",
    "  print('signature verified.')\n",
    "else:\n",
    "  print('signature incorrect.')"
   ]
  },
  {
   "cell_type": "markdown",
   "metadata": {},
   "source": [
    "### Try It Yourself\n",
    "\n",
    "Create a simple text file. Create a digital signature. Email text file, public key and signature as attachments to a friend. Ask him/her to verify the text in the email.\n",
    "\n",
    "Technical note: \n",
    "1. Write the message to file using 'wb' with message as b-string\n",
    "1. After reading the message from the file, the message read must be encoded. For example if the text is read into 'm', the you have to use 'm.encode()' to hash it. "
   ]
  },
  {
   "cell_type": "markdown",
   "metadata": {},
   "source": [
    "### Bitcoin Address \n",
    "\n",
    "import cryptos\n",
    "`!pip install bitcoinaddress` . Run only once!\n",
    "\n",
    "Bitcoin uses the similar ideas from public key cryptography except that instead of RSA it uses a different scheme.\n",
    "\n",
    "Note: WIF: wallet Import Format "
   ]
  },
  {
   "cell_type": "code",
   "execution_count": null,
   "metadata": {},
   "outputs": [],
   "source": [
    "!pip install bitcoinaddress \n"
   ]
  },
  {
   "cell_type": "code",
   "execution_count": null,
   "metadata": {},
   "outputs": [],
   "source": [
    "from bitcoinaddress import Wallet\n",
    "\n",
    "wallet = Wallet('5HqrbgkWPqBy6dvCE7FoUiMuiCfFPRdtRsyi6NuCM2np8qBZxq5')\n",
    "print(wallet)"
   ]
  }
 ],
 "metadata": {
  "kernelspec": {
   "display_name": "Python 3",
   "language": "python",
   "name": "python3"
  },
  "language_info": {
   "codemirror_mode": {
    "name": "ipython",
    "version": 3
   },
   "file_extension": ".py",
   "mimetype": "text/x-python",
   "name": "python",
   "nbconvert_exporter": "python",
   "pygments_lexer": "ipython3",
   "version": "3.8.3"
  }
 },
 "nbformat": 4,
 "nbformat_minor": 4
}
